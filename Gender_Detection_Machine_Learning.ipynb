{
  "cells": [
    {
      "cell_type": "markdown",
      "metadata": {
        "id": "biTTyWMn28pO"
      },
      "source": [
        "Intro:\n",
        "*   Author: Santanam Wishal\n",
        "*   Project: Machine Learning - Image Classification\n",
        "*   Email: santawishal17@gmail.com\n",
        "*   LinkedIn: www.linkedin.com/in/santawishal\n",
        "*   GitHub: https://github.com/kianaaa19/\n",
        "\n",
        "\n",
        "\n",
        "\n",
        "Image Classification Model Deployment"
      ]
    },
    {
      "cell_type": "code",
      "execution_count": null,
      "metadata": {
        "colab": {
          "base_uri": "https://localhost:8080/"
        },
        "id": "5VggEWisPhb7",
        "outputId": "18213b8d-0a4a-42c4-b304-f0698100ab3b"
      },
      "outputs": [
        {
          "name": "stdout",
          "output_type": "stream",
          "text": [
            "Requirement already satisfied: opencv-python in /usr/local/lib/python3.10/dist-packages (4.8.0.76)\n",
            "Requirement already satisfied: numpy>=1.21.2 in /usr/local/lib/python3.10/dist-packages (from opencv-python) (1.23.5)\n"
          ]
        }
      ],
      "source": [
        "# Import dependencies\n",
        "!pip install opencv-python\n",
        "!pip install -q kaggle\n",
        "import pandas as pd\n",
        "import numpy as np\n",
        "import cv2\n",
        "import os\n",
        "import zipfile\n",
        "import shutil\n",
        "import pathlib\n",
        "import tensorflow as tf\n",
        "import matplotlib.pyplot as plt\n",
        "import matplotlib.image as mpimg\n",
        "from google.colab import files\n",
        "from google.colab.patches import cv2_imshow\n",
        "from tensorflow.keras.models import Sequential, load_model, Model\n",
        "from tensorflow.keras.applications import VGG16\n",
        "from sklearn.model_selection import train_test_split\n",
        "from tensorflow.keras import layers\n",
        "from tensorflow.keras.layers import Input, Activation, Add, Dropout, BatchNormalization, Flatten, Conv2D, MaxPooling2D, Dense, Input\n",
        "from tensorflow.keras.regularizers import l2\n",
        "from tensorflow.keras.optimizers import Adam, RMSprop\n",
        "from tensorflow.keras.preprocessing import image\n",
        "from tensorflow.keras.preprocessing.image import ImageDataGenerator, img_to_array\n",
        "from tensorflow.keras.callbacks import Callback, ReduceLROnPlateau, EarlyStopping, ModelCheckpoint"
      ]
    },
    {
      "cell_type": "markdown",
      "metadata": {
        "id": "akeTY1y1SxGN"
      },
      "source": [
        "Dataset: UTKFaces (20.000+ pictures, Different Resolution)\n",
        "\n",
        "Link: https://www.kaggle.com/datasets/jangedoo/utkface-new"
      ]
    },
    {
      "cell_type": "code",
      "execution_count": null,
      "metadata": {
        "colab": {
          "base_uri": "https://localhost:8080/",
          "height": 90
        },
        "id": "IdLHW-RpbnNr",
        "outputId": "c07d59a4-4387-492e-c0a3-5307bf828b6d"
      },
      "outputs": [
        {
          "data": {
            "text/html": [
              "\n",
              "     <input type=\"file\" id=\"files-394449b6-e90b-4c95-b106-8ef07806186a\" name=\"files[]\" multiple disabled\n",
              "        style=\"border:none\" />\n",
              "     <output id=\"result-394449b6-e90b-4c95-b106-8ef07806186a\">\n",
              "      Upload widget is only available when the cell has been executed in the\n",
              "      current browser session. Please rerun this cell to enable.\n",
              "      </output>\n",
              "      <script>// Copyright 2017 Google LLC\n",
              "//\n",
              "// Licensed under the Apache License, Version 2.0 (the \"License\");\n",
              "// you may not use this file except in compliance with the License.\n",
              "// You may obtain a copy of the License at\n",
              "//\n",
              "//      http://www.apache.org/licenses/LICENSE-2.0\n",
              "//\n",
              "// Unless required by applicable law or agreed to in writing, software\n",
              "// distributed under the License is distributed on an \"AS IS\" BASIS,\n",
              "// WITHOUT WARRANTIES OR CONDITIONS OF ANY KIND, either express or implied.\n",
              "// See the License for the specific language governing permissions and\n",
              "// limitations under the License.\n",
              "\n",
              "/**\n",
              " * @fileoverview Helpers for google.colab Python module.\n",
              " */\n",
              "(function(scope) {\n",
              "function span(text, styleAttributes = {}) {\n",
              "  const element = document.createElement('span');\n",
              "  element.textContent = text;\n",
              "  for (const key of Object.keys(styleAttributes)) {\n",
              "    element.style[key] = styleAttributes[key];\n",
              "  }\n",
              "  return element;\n",
              "}\n",
              "\n",
              "// Max number of bytes which will be uploaded at a time.\n",
              "const MAX_PAYLOAD_SIZE = 100 * 1024;\n",
              "\n",
              "function _uploadFiles(inputId, outputId) {\n",
              "  const steps = uploadFilesStep(inputId, outputId);\n",
              "  const outputElement = document.getElementById(outputId);\n",
              "  // Cache steps on the outputElement to make it available for the next call\n",
              "  // to uploadFilesContinue from Python.\n",
              "  outputElement.steps = steps;\n",
              "\n",
              "  return _uploadFilesContinue(outputId);\n",
              "}\n",
              "\n",
              "// This is roughly an async generator (not supported in the browser yet),\n",
              "// where there are multiple asynchronous steps and the Python side is going\n",
              "// to poll for completion of each step.\n",
              "// This uses a Promise to block the python side on completion of each step,\n",
              "// then passes the result of the previous step as the input to the next step.\n",
              "function _uploadFilesContinue(outputId) {\n",
              "  const outputElement = document.getElementById(outputId);\n",
              "  const steps = outputElement.steps;\n",
              "\n",
              "  const next = steps.next(outputElement.lastPromiseValue);\n",
              "  return Promise.resolve(next.value.promise).then((value) => {\n",
              "    // Cache the last promise value to make it available to the next\n",
              "    // step of the generator.\n",
              "    outputElement.lastPromiseValue = value;\n",
              "    return next.value.response;\n",
              "  });\n",
              "}\n",
              "\n",
              "/**\n",
              " * Generator function which is called between each async step of the upload\n",
              " * process.\n",
              " * @param {string} inputId Element ID of the input file picker element.\n",
              " * @param {string} outputId Element ID of the output display.\n",
              " * @return {!Iterable<!Object>} Iterable of next steps.\n",
              " */\n",
              "function* uploadFilesStep(inputId, outputId) {\n",
              "  const inputElement = document.getElementById(inputId);\n",
              "  inputElement.disabled = false;\n",
              "\n",
              "  const outputElement = document.getElementById(outputId);\n",
              "  outputElement.innerHTML = '';\n",
              "\n",
              "  const pickedPromise = new Promise((resolve) => {\n",
              "    inputElement.addEventListener('change', (e) => {\n",
              "      resolve(e.target.files);\n",
              "    });\n",
              "  });\n",
              "\n",
              "  const cancel = document.createElement('button');\n",
              "  inputElement.parentElement.appendChild(cancel);\n",
              "  cancel.textContent = 'Cancel upload';\n",
              "  const cancelPromise = new Promise((resolve) => {\n",
              "    cancel.onclick = () => {\n",
              "      resolve(null);\n",
              "    };\n",
              "  });\n",
              "\n",
              "  // Wait for the user to pick the files.\n",
              "  const files = yield {\n",
              "    promise: Promise.race([pickedPromise, cancelPromise]),\n",
              "    response: {\n",
              "      action: 'starting',\n",
              "    }\n",
              "  };\n",
              "\n",
              "  cancel.remove();\n",
              "\n",
              "  // Disable the input element since further picks are not allowed.\n",
              "  inputElement.disabled = true;\n",
              "\n",
              "  if (!files) {\n",
              "    return {\n",
              "      response: {\n",
              "        action: 'complete',\n",
              "      }\n",
              "    };\n",
              "  }\n",
              "\n",
              "  for (const file of files) {\n",
              "    const li = document.createElement('li');\n",
              "    li.append(span(file.name, {fontWeight: 'bold'}));\n",
              "    li.append(span(\n",
              "        `(${file.type || 'n/a'}) - ${file.size} bytes, ` +\n",
              "        `last modified: ${\n",
              "            file.lastModifiedDate ? file.lastModifiedDate.toLocaleDateString() :\n",
              "                                    'n/a'} - `));\n",
              "    const percent = span('0% done');\n",
              "    li.appendChild(percent);\n",
              "\n",
              "    outputElement.appendChild(li);\n",
              "\n",
              "    const fileDataPromise = new Promise((resolve) => {\n",
              "      const reader = new FileReader();\n",
              "      reader.onload = (e) => {\n",
              "        resolve(e.target.result);\n",
              "      };\n",
              "      reader.readAsArrayBuffer(file);\n",
              "    });\n",
              "    // Wait for the data to be ready.\n",
              "    let fileData = yield {\n",
              "      promise: fileDataPromise,\n",
              "      response: {\n",
              "        action: 'continue',\n",
              "      }\n",
              "    };\n",
              "\n",
              "    // Use a chunked sending to avoid message size limits. See b/62115660.\n",
              "    let position = 0;\n",
              "    do {\n",
              "      const length = Math.min(fileData.byteLength - position, MAX_PAYLOAD_SIZE);\n",
              "      const chunk = new Uint8Array(fileData, position, length);\n",
              "      position += length;\n",
              "\n",
              "      const base64 = btoa(String.fromCharCode.apply(null, chunk));\n",
              "      yield {\n",
              "        response: {\n",
              "          action: 'append',\n",
              "          file: file.name,\n",
              "          data: base64,\n",
              "        },\n",
              "      };\n",
              "\n",
              "      let percentDone = fileData.byteLength === 0 ?\n",
              "          100 :\n",
              "          Math.round((position / fileData.byteLength) * 100);\n",
              "      percent.textContent = `${percentDone}% done`;\n",
              "\n",
              "    } while (position < fileData.byteLength);\n",
              "  }\n",
              "\n",
              "  // All done.\n",
              "  yield {\n",
              "    response: {\n",
              "      action: 'complete',\n",
              "    }\n",
              "  };\n",
              "}\n",
              "\n",
              "scope.google = scope.google || {};\n",
              "scope.google.colab = scope.google.colab || {};\n",
              "scope.google.colab._files = {\n",
              "  _uploadFiles,\n",
              "  _uploadFilesContinue,\n",
              "};\n",
              "})(self);\n",
              "</script> "
            ],
            "text/plain": [
              "<IPython.core.display.HTML object>"
            ]
          },
          "metadata": {},
          "output_type": "display_data"
        },
        {
          "name": "stdout",
          "output_type": "stream",
          "text": [
            "Saving kaggle.json to kaggle.json\n"
          ]
        },
        {
          "data": {
            "text/plain": [
              "{'kaggle.json': b'{\"username\":\"santanamwishal\",\"key\":\"61a131d0b4dd2cf8b185edc2e6746eec\"}'}"
            ]
          },
          "execution_count": 2,
          "metadata": {},
          "output_type": "execute_result"
        }
      ],
      "source": [
        "files.upload()"
      ]
    },
    {
      "cell_type": "code",
      "execution_count": null,
      "metadata": {
        "id": "O_1Nb6oSStul"
      },
      "outputs": [],
      "source": [
        "! mkdir ~/.kaggle\n",
        "! cp kaggle.json ~/.kaggle/"
      ]
    },
    {
      "cell_type": "code",
      "execution_count": null,
      "metadata": {
        "id": "4TGRpS_oS15R"
      },
      "outputs": [],
      "source": [
        "! chmod 600 ~/.kaggle/kaggle.json"
      ]
    },
    {
      "cell_type": "code",
      "execution_count": null,
      "metadata": {
        "colab": {
          "base_uri": "https://localhost:8080/"
        },
        "id": "aXARaD85S5JS",
        "outputId": "7fdefe91-177c-474a-8403-9f8753eb5a64"
      },
      "outputs": [
        {
          "name": "stdout",
          "output_type": "stream",
          "text": [
            "Downloading utkface-new.zip to /content\n",
            " 91% 301M/331M [00:01<00:00, 270MB/s]\n",
            "100% 331M/331M [00:01<00:00, 263MB/s]\n"
          ]
        }
      ],
      "source": [
        "!kaggle datasets download -d jangedoo/utkface-new"
      ]
    },
    {
      "cell_type": "code",
      "execution_count": null,
      "metadata": {
        "id": "tTCTsLhoS7BB"
      },
      "outputs": [],
      "source": [
        "zipPath = '../content/utkface-new.zip'\n",
        "zipFile = zipfile.ZipFile(zipPath, 'r')\n",
        "zipFile.extractall('../content/UTKFACE')\n",
        "zipFile.close()"
      ]
    },
    {
      "cell_type": "code",
      "execution_count": null,
      "metadata": {
        "id": "gpqaJ5u1S9fo"
      },
      "outputs": [],
      "source": [
        "train_dir = os.path.join('../content/UTKFACE/UTKFace')"
      ]
    },
    {
      "cell_type": "code",
      "execution_count": null,
      "metadata": {
        "id": "ukuClGqSTB3K"
      },
      "outputs": [],
      "source": [
        "# Load Dataset\n",
        "path = train_dir\n",
        "pixels = []\n",
        "gender = []\n",
        "i=0\n",
        "for img in os.listdir(path):\n",
        "  i=i+1\n",
        "  genders = img.split(\"_\")[1]\n",
        "  img = cv2.imread(str(path)+\"/\"+str(img))\n",
        "  img=cv2.resize(img,(64,64))\n",
        "  pixels.append(np.array(img))\n",
        "  gender.append(np.array(genders))\n",
        "pixels = np.array(pixels)\n",
        "gender = np.array(gender,np.uint64)"
      ]
    },
    {
      "cell_type": "code",
      "execution_count": null,
      "metadata": {
        "id": "xE2nHeHSTaii"
      },
      "outputs": [],
      "source": [
        "# Split Dataset into 80:20 training & test\n",
        "x_train,x_test,y_train,y_test = train_test_split(pixels,gender,test_size=0.2,random_state=100)"
      ]
    },
    {
      "cell_type": "code",
      "execution_count": null,
      "metadata": {
        "colab": {
          "base_uri": "https://localhost:8080/"
        },
        "id": "0o31hbUwUQXF",
        "outputId": "11ea55ed-4bd3-4fbb-a348-6a61953f6d30"
      },
      "outputs": [
        {
          "name": "stdout",
          "output_type": "stream",
          "text": [
            "18966\n",
            "4742\n"
          ]
        }
      ],
      "source": [
        "print(len(x_train))\n",
        "print(len(x_test))"
      ]
    },
    {
      "cell_type": "code",
      "execution_count": null,
      "metadata": {
        "colab": {
          "base_uri": "https://localhost:8080/"
        },
        "id": "safP5dZVukUE",
        "outputId": "4176158a-db5b-418b-aeae-5aaa306ae411"
      },
      "outputs": [
        {
          "name": "stdout",
          "output_type": "stream",
          "text": [
            "Downloading data from https://storage.googleapis.com/tensorflow/keras-applications/vgg16/vgg16_weights_tf_dim_ordering_tf_kernels_notop.h5\n",
            "58889256/58889256 [==============================] - 0s 0us/step\n"
          ]
        }
      ],
      "source": [
        "# Transfer Learning VGG16\n",
        "base_model = VGG16(input_shape=(64,64,3),include_top=False,weights=\"imagenet\")"
      ]
    },
    {
      "cell_type": "code",
      "execution_count": null,
      "metadata": {
        "id": "IMDl3nmBQXgS"
      },
      "outputs": [],
      "source": [
        "# Freezing Layers\n",
        "for layer in base_model.layers[:-20]:\n",
        "    layer.trainable=False"
      ]
    },
    {
      "cell_type": "code",
      "execution_count": null,
      "metadata": {
        "id": "PXA_ihzfTl8t"
      },
      "outputs": [],
      "source": [
        "# CNN Architecture\n",
        "model=Sequential()\n",
        "model.add(base_model)\n",
        "model.add(layers.Dropout(.2))\n",
        "model.add(Conv2D(512, (3, 3),strides=(1,1), activation='relu', padding='same'))\n",
        "model.add(BatchNormalization())\n",
        "model.add(layers.Dropout(.1))\n",
        "model.add(Conv2D(128, (3, 3),strides=(1,1), activation='relu', padding='same'))\n",
        "model.add(BatchNormalization())\n",
        "model.add(layers.Dropout(.1))\n",
        "model.add(Conv2D(384, (3, 3),strides=(1,1), activation='relu', padding='same'))\n",
        "model.add(BatchNormalization())\n",
        "model.add(layers.Dropout(.1))\n",
        "model.add(Conv2D(384, (3, 3),strides=(1,1), activation='relu', padding='same'))\n",
        "model.add(BatchNormalization())\n",
        "model.add(layers.Dropout(.1))\n",
        "model.add(Conv2D(500, (3, 3),strides=(1,1), activation='relu', padding='same'))\n",
        "model.add(BatchNormalization())\n",
        "model.add(MaxPooling2D(2,strides=(2,2), padding='same'))\n",
        "model.add(Flatten())\n",
        "model.add(Dense(2048 , activation='relu'))\n",
        "model.add(layers.Dropout(.2))\n",
        "model.add(Dense(2048 , activation='relu'))\n",
        "model.add(layers.Dropout(.2))\n",
        "model.add(Dense(2048, activation='relu'))\n",
        "model.add(layers.Dropout(.2))\n",
        "model.add(Dense(2, activation='sigmoid'))"
      ]
    },
    {
      "cell_type": "code",
      "execution_count": null,
      "metadata": {
        "colab": {
          "base_uri": "https://localhost:8080/"
        },
        "id": "c5q4pWxYTrhb",
        "outputId": "b78f0528-cfd7-4904-cf0a-b8598a759b03"
      },
      "outputs": [
        {
          "name": "stdout",
          "output_type": "stream",
          "text": [
            "Model: \"sequential\"\n",
            "_________________________________________________________________\n",
            " Layer (type)                Output Shape              Param #   \n",
            "=================================================================\n",
            " vgg16 (Functional)          (None, 2, 2, 512)         14714688  \n",
            "                                                                 \n",
            " dropout (Dropout)           (None, 2, 2, 512)         0         \n",
            "                                                                 \n",
            " conv2d (Conv2D)             (None, 2, 2, 512)         2359808   \n",
            "                                                                 \n",
            " batch_normalization (Batch  (None, 2, 2, 512)         2048      \n",
            " Normalization)                                                  \n",
            "                                                                 \n",
            " dropout_1 (Dropout)         (None, 2, 2, 512)         0         \n",
            "                                                                 \n",
            " conv2d_1 (Conv2D)           (None, 2, 2, 128)         589952    \n",
            "                                                                 \n",
            " batch_normalization_1 (Bat  (None, 2, 2, 128)         512       \n",
            " chNormalization)                                                \n",
            "                                                                 \n",
            " dropout_2 (Dropout)         (None, 2, 2, 128)         0         \n",
            "                                                                 \n",
            " conv2d_2 (Conv2D)           (None, 2, 2, 384)         442752    \n",
            "                                                                 \n",
            " batch_normalization_2 (Bat  (None, 2, 2, 384)         1536      \n",
            " chNormalization)                                                \n",
            "                                                                 \n",
            " dropout_3 (Dropout)         (None, 2, 2, 384)         0         \n",
            "                                                                 \n",
            " conv2d_3 (Conv2D)           (None, 2, 2, 384)         1327488   \n",
            "                                                                 \n",
            " batch_normalization_3 (Bat  (None, 2, 2, 384)         1536      \n",
            " chNormalization)                                                \n",
            "                                                                 \n",
            " dropout_4 (Dropout)         (None, 2, 2, 384)         0         \n",
            "                                                                 \n",
            " conv2d_4 (Conv2D)           (None, 2, 2, 500)         1728500   \n",
            "                                                                 \n",
            " batch_normalization_4 (Bat  (None, 2, 2, 500)         2000      \n",
            " chNormalization)                                                \n",
            "                                                                 \n",
            " max_pooling2d (MaxPooling2  (None, 1, 1, 500)         0         \n",
            " D)                                                              \n",
            "                                                                 \n",
            " flatten (Flatten)           (None, 500)               0         \n",
            "                                                                 \n",
            " dense (Dense)               (None, 2048)              1026048   \n",
            "                                                                 \n",
            " dropout_5 (Dropout)         (None, 2048)              0         \n",
            "                                                                 \n",
            " dense_1 (Dense)             (None, 2048)              4196352   \n",
            "                                                                 \n",
            " dropout_6 (Dropout)         (None, 2048)              0         \n",
            "                                                                 \n",
            " dense_2 (Dense)             (None, 2048)              4196352   \n",
            "                                                                 \n",
            " dropout_7 (Dropout)         (None, 2048)              0         \n",
            "                                                                 \n",
            " dense_3 (Dense)             (None, 2)                 4098      \n",
            "                                                                 \n",
            "=================================================================\n",
            "Total params: 30593670 (116.71 MB)\n",
            "Trainable params: 30589854 (116.69 MB)\n",
            "Non-trainable params: 3816 (14.91 KB)\n",
            "_________________________________________________________________\n"
          ]
        }
      ],
      "source": [
        "# Model compile\n",
        "opt = Adam(learning_rate=0.0001)\n",
        "model.compile(optimizer=opt,loss=[\"sparse_categorical_crossentropy\"],metrics=['mae','accuracy'])\n",
        "model.summary()"
      ]
    },
    {
      "cell_type": "code",
      "execution_count": null,
      "metadata": {
        "id": "q1vxvcXHUcpM"
      },
      "outputs": [],
      "source": [
        "# Callback Function\n",
        "class myCallback(Callback):\n",
        "   def on_epoch_end(self, epoch, logs={}):\n",
        "        if((logs.get('accuracy') >= target and logs.get('val_accuracy') >= target) and epoch >= 3):\n",
        "            print(f\"\\nAkurasi dan Validation Accuration sudah mencapai 92%\", \"\\nEpoch: \", epoch)\n",
        "            self.model.stop_training = True\n",
        "target = 0.92\n",
        "callbacks = myCallback()"
      ]
    },
    {
      "cell_type": "code",
      "execution_count": null,
      "metadata": {
        "id": "hz9RF6r6Uflq"
      },
      "outputs": [],
      "source": [
        "# Model Checkpoint\n",
        "model_path='../content/model.h5'\n",
        "checkpointer = ModelCheckpoint(model_path, monitor='loss',verbose=1,save_best_only=True,\n",
        "                               save_weights_only=False, mode='auto',save_freq='epoch')"
      ]
    },
    {
      "cell_type": "code",
      "execution_count": null,
      "metadata": {
        "id": "2lVW6G8LVRbB"
      },
      "outputs": [],
      "source": [
        "# Auto Reduction\n",
        "auto_reduction = ReduceLROnPlateau(\n",
        "    monitor = 'val_accuracy',\n",
        "    patience = 3,\n",
        "    verbose = 1,\n",
        "    factor = 0.5,\n",
        "    min_lr = 0.0001\n",
        ")"
      ]
    },
    {
      "cell_type": "code",
      "execution_count": null,
      "metadata": {
        "id": "31YSDDNuVTo6"
      },
      "outputs": [],
      "source": [
        "# Auto Stop Learn\n",
        "auto_stop_learn = EarlyStopping(\n",
        "    monitor = 'val_accuracy',\n",
        "    min_delta = 0,\n",
        "    patience = 4,\n",
        "    verbose = 1,\n",
        "    mode = 'auto'\n",
        ")"
      ]
    },
    {
      "cell_type": "code",
      "execution_count": null,
      "metadata": {
        "colab": {
          "base_uri": "https://localhost:8080/"
        },
        "id": "-sfj9WFYU2cR",
        "outputId": "fd01e13d-338b-4bd6-95b0-e5fecba64a60"
      },
      "outputs": [
        {
          "name": "stdout",
          "output_type": "stream",
          "text": [
            "Epoch 1/15\n",
            " 6/64 [=>............................] - ETA: 23s - loss: 1.0896 - mae: 0.5002 - accuracy: 0.4989"
          ]
        },
        {
          "name": "stderr",
          "output_type": "stream",
          "text": [
            "WARNING:tensorflow:Callback method `on_train_batch_end` is slow compared to the batch time (batch time: 0.1295s vs `on_train_batch_end` time: 0.2264s). Check your callbacks.\n"
          ]
        },
        {
          "name": "stdout",
          "output_type": "stream",
          "text": [
            "64/64 [==============================] - ETA: 0s - loss: 0.5498 - mae: 0.4964 - accuracy: 0.7264\n",
            "Epoch 1: loss improved from inf to 0.54976, saving model to ../content/model.h5\n"
          ]
        },
        {
          "name": "stderr",
          "output_type": "stream",
          "text": [
            "/usr/local/lib/python3.10/dist-packages/keras/src/engine/training.py:3103: UserWarning: You are saving your model as an HDF5 file via `model.save()`. This file format is considered legacy. We recommend using instead the native Keras format, e.g. `model.save('my_model.keras')`.\n",
            "  saving_api.save_model(\n"
          ]
        },
        {
          "name": "stdout",
          "output_type": "stream",
          "text": [
            "\b\b\b\b\b\b\b\b\b\b\b\b\b\b\b\b\b\b\b\b\b\b\b\b\b\b\b\b\b\b\b\b\b\b\b\b\b\b\b\b\b\b\b\b\b\b\b\b\b\b\b\b\b\b\b\b\b\b\b\b\b\b\b\b\b\b\b\b\b\b\b\b\b\b\b\b\b\b\b\b\b\b\b\b\b\b\b\b\b\b\b\b\b\b\b\b\r64/64 [==============================] - 92s 915ms/step - loss: 0.5498 - mae: 0.4964 - accuracy: 0.7264 - val_loss: 0.6130 - val_mae: 0.5012 - val_accuracy: 0.7410 - lr: 1.0000e-04\n",
            "Epoch 2/15\n",
            "64/64 [==============================] - ETA: 0s - loss: 0.2580 - mae: 0.4930 - accuracy: 0.8947\n",
            "Epoch 2: loss improved from 0.54976 to 0.25802, saving model to ../content/model.h5\n",
            "64/64 [==============================] - 29s 458ms/step - loss: 0.2580 - mae: 0.4930 - accuracy: 0.8947 - val_loss: 0.3803 - val_mae: 0.5052 - val_accuracy: 0.8950 - lr: 1.0000e-04\n",
            "Epoch 3/15\n",
            "64/64 [==============================] - ETA: 0s - loss: 0.2153 - mae: 0.4923 - accuracy: 0.9126\n",
            "Epoch 3: loss improved from 0.25802 to 0.21532, saving model to ../content/model.h5\n",
            "64/64 [==============================] - 33s 517ms/step - loss: 0.2153 - mae: 0.4923 - accuracy: 0.9126 - val_loss: 0.3149 - val_mae: 0.4965 - val_accuracy: 0.8623 - lr: 1.0000e-04\n",
            "Epoch 4/15\n",
            "64/64 [==============================] - ETA: 0s - loss: 0.1871 - mae: 0.4891 - accuracy: 0.9260\n",
            "Epoch 4: loss improved from 0.21532 to 0.18708, saving model to ../content/model.h5\n",
            "64/64 [==============================] - 30s 467ms/step - loss: 0.1871 - mae: 0.4891 - accuracy: 0.9260 - val_loss: 0.5603 - val_mae: 0.4913 - val_accuracy: 0.7817 - lr: 1.0000e-04\n",
            "Epoch 5/15\n",
            "64/64 [==============================] - ETA: 0s - loss: 0.1552 - mae: 0.4899 - accuracy: 0.9409\n",
            "Epoch 5: loss improved from 0.18708 to 0.15524, saving model to ../content/model.h5\n",
            "64/64 [==============================] - 29s 456ms/step - loss: 0.1552 - mae: 0.4899 - accuracy: 0.9409 - val_loss: 0.2132 - val_mae: 0.4865 - val_accuracy: 0.9112 - lr: 1.0000e-04\n",
            "Epoch 6/15\n",
            "64/64 [==============================] - ETA: 0s - loss: 0.1319 - mae: 0.4893 - accuracy: 0.9486\n",
            "Epoch 6: loss improved from 0.15524 to 0.13186, saving model to ../content/model.h5\n",
            "64/64 [==============================] - 29s 459ms/step - loss: 0.1319 - mae: 0.4893 - accuracy: 0.9486 - val_loss: 0.4752 - val_mae: 0.4932 - val_accuracy: 0.8503 - lr: 1.0000e-04\n",
            "Epoch 7/15\n",
            "64/64 [==============================] - ETA: 0s - loss: 0.1159 - mae: 0.4907 - accuracy: 0.9578\n",
            "Epoch 7: loss improved from 0.13186 to 0.11589, saving model to ../content/model.h5\n",
            "64/64 [==============================] - 30s 462ms/step - loss: 0.1159 - mae: 0.4907 - accuracy: 0.9578 - val_loss: 0.2124 - val_mae: 0.4954 - val_accuracy: 0.9192 - lr: 1.0000e-04\n",
            "Epoch 8/15\n",
            "64/64 [==============================] - ETA: 0s - loss: 0.0964 - mae: 0.4900 - accuracy: 0.9661\n",
            "Epoch 8: loss improved from 0.11589 to 0.09639, saving model to ../content/model.h5\n",
            "64/64 [==============================] - 30s 462ms/step - loss: 0.0964 - mae: 0.4900 - accuracy: 0.9661 - val_loss: 0.5763 - val_mae: 0.4940 - val_accuracy: 0.8501 - lr: 1.0000e-04\n",
            "Epoch 9/15\n",
            "64/64 [==============================] - ETA: 0s - loss: 0.0774 - mae: 0.4899 - accuracy: 0.9760\n",
            "Epoch 9: loss improved from 0.09639 to 0.07738, saving model to ../content/model.h5\n",
            "64/64 [==============================] - 30s 466ms/step - loss: 0.0774 - mae: 0.4899 - accuracy: 0.9760 - val_loss: 0.3321 - val_mae: 0.4931 - val_accuracy: 0.8979 - lr: 1.0000e-04\n",
            "Epoch 10/15\n",
            "64/64 [==============================] - ETA: 0s - loss: 0.0710 - mae: 0.4905 - accuracy: 0.9783\n",
            "Epoch 10: loss improved from 0.07738 to 0.07103, saving model to ../content/model.h5\n",
            "64/64 [==============================] - 29s 455ms/step - loss: 0.0710 - mae: 0.4905 - accuracy: 0.9783 - val_loss: 0.4012 - val_mae: 0.4922 - val_accuracy: 0.8735 - lr: 1.0000e-04\n",
            "Epoch 11/15\n",
            "64/64 [==============================] - ETA: 0s - loss: 0.0635 - mae: 0.4881 - accuracy: 0.9818\n",
            "Akurasi dan Validation Accuration sudah mencapai 92% \n",
            "Epoch:  10\n",
            "\n",
            "Epoch 11: loss improved from 0.07103 to 0.06353, saving model to ../content/model.h5\n",
            "64/64 [==============================] - 34s 528ms/step - loss: 0.0635 - mae: 0.4881 - accuracy: 0.9818 - val_loss: 0.2638 - val_mae: 0.4865 - val_accuracy: 0.9239 - lr: 1.0000e-04\n"
          ]
        }
      ],
      "source": [
        "save = model.fit(x_train,\n",
        "                 y_train,\n",
        "                 validation_data=(x_test,y_test),\n",
        "                 epochs=15,\n",
        "                 steps_per_epoch=64,\n",
        "                 validation_steps=64,\n",
        "                 callbacks=[callbacks,checkpointer,auto_reduction,auto_stop_learn])"
      ]
    },
    {
      "cell_type": "code",
      "execution_count": null,
      "metadata": {
        "colab": {
          "base_uri": "https://localhost:8080/",
          "height": 673
        },
        "id": "mm5d3uy65w5E",
        "outputId": "9a006f02-6323-4e25-f903-ad3484e30372"
      },
      "outputs": [
        {
          "data": {
            "text/plain": [
              "Text(0.5, 0.92, 'Lineplots showing loss and accuracy of CNN model by epochs')"
            ]
          },
          "execution_count": 24,
          "metadata": {},
          "output_type": "execute_result"
        },
        {
          "data": {
            "image/png": "[encoded data removed]",
            "text/plain": [
              "<Figure size 1500x700 with 2 Axes>"
            ]
          },
          "metadata": {},
          "output_type": "display_data"
        }
      ],
      "source": [
        "# Checking the train and test loss and accuracy values from the neural network.\n",
        "train_loss = save.history['loss']\n",
        "test_loss = save.history['val_loss']\n",
        "train_accuracy = save.history['accuracy']\n",
        "test_accuracy = save.history['val_accuracy']\n",
        "\n",
        "# Plotting a line chart to visualize the loss and accuracy values by epochs.\n",
        "fig, ax = plt.subplots(ncols=2, figsize=(15,7))\n",
        "ax = ax.ravel()\n",
        "ax[0].plot(train_loss, label='Train Loss', color='royalblue', marker='o', markersize=5)\n",
        "ax[0].plot(test_loss, label='Test Loss', color = 'orangered', marker='o', markersize=5)\n",
        "ax[0].set_xlabel('Epochs', fontsize=14)\n",
        "ax[0].set_ylabel('Categorical Crossentropy', fontsize=14)\n",
        "ax[0].legend(fontsize=14)\n",
        "ax[0].tick_params(axis='both', labelsize=12)\n",
        "ax[1].plot(train_accuracy, label='Train Accuracy', color='royalblue', marker='o', markersize=5)\n",
        "ax[1].plot(test_accuracy, label='Test Accuracy', color='orangered', marker='o', markersize=5)\n",
        "ax[1].set_xlabel('Epochs', fontsize=14)\n",
        "ax[1].set_ylabel('Accuracy', fontsize=14)\n",
        "ax[1].legend(fontsize=14)\n",
        "ax[1].tick_params(axis='both', labelsize=12)\n",
        "fig.suptitle(x=0.5, y=0.92, t=\"Lineplots showing loss and accuracy of CNN model by epochs\", fontsize=16)"
      ]
    },
    {
      "cell_type": "code",
      "execution_count": null,
      "metadata": {
        "id": "0bdrtC6B-kM8"
      },
      "outputs": [],
      "source": [
        "model.save(\"model.h5\")"
      ]
    },
    {
      "cell_type": "code",
      "execution_count": null,
      "metadata": {
        "colab": {
          "base_uri": "https://localhost:8080/"
        },
        "id": "1T-9HG4T-tDL",
        "outputId": "0edef68c-a8b8-40a7-af0b-614006189f98"
      },
      "outputs": [
        {
          "data": {
            "text/plain": [
              "122376312"
            ]
          },
          "execution_count": 32,
          "metadata": {},
          "output_type": "execute_result"
        }
      ],
      "source": [
        "# Menyimpan model dalam format SavedModel\n",
        "export_dir = 'saved_model/'\n",
        "tf.saved_model.save(model, export_dir)\n",
        "\n",
        "# Convert SavedModel menjadi gender.tflite\n",
        "converter = tf.lite.TFLiteConverter.from_saved_model(export_dir)\n",
        "tflite_model = converter.convert()\n",
        "\n",
        "tflite_model_file = pathlib.Path('gender.tflite')\n",
        "tflite_model_file.write_bytes(tflite_model)"
      ]
    }
  ],
  "metadata": {
    "accelerator": "GPU",
    "colab": {
      "gpuType": "T4",
      "provenance": []
    },
    "kernelspec": {
      "display_name": "Python 3",
      "name": "python3"
    },
    "language_info": {
      "name": "python"
    }
  },
  "nbformat": 4,
  "nbformat_minor": 0
}
